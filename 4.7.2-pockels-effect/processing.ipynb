{
 "cells": [
  {
   "cell_type": "code",
   "execution_count": 2,
   "id": "b1827b0a-3912-4eec-8715-4aefa5472a88",
   "metadata": {
    "tags": []
   },
   "outputs": [],
   "source": [
    "# %load ../processing_tools.py\n",
    "import numpy as np\n",
    "from scipy.optimize import curve_fit\n",
    "import pandas as pd\n",
    "\n",
    "import matplotlib.pyplot as plt\n",
    "import matplotlib\n",
    "import scienceplots\n",
    "\n",
    "plt.style.use(['science', 'russian-font'])\n",
    "\n",
    "matplotlib.rcParams.update({\n",
    "    'figure.figsize': [6, 4],\n",
    "    'savefig.facecolor': 'white',\n",
    "    'figure.dpi': 150.0,\n",
    "    'font.size': 12.0,\n",
    "})\n"
   ]
  },
  {
   "cell_type": "code",
   "execution_count": null,
   "id": "7549e174-c440-4c19-b525-177e51312f64",
   "metadata": {},
   "outputs": [],
   "source": []
  }
 ],
 "metadata": {
  "kernelspec": {
   "display_name": "Python 3 (ipykernel)",
   "language": "python",
   "name": "python3"
  },
  "language_info": {
   "codemirror_mode": {
    "name": "ipython",
    "version": 3
   },
   "file_extension": ".py",
   "mimetype": "text/x-python",
   "name": "python",
   "nbconvert_exporter": "python",
   "pygments_lexer": "ipython3",
   "version": "3.10.6"
  }
 },
 "nbformat": 4,
 "nbformat_minor": 5
}
