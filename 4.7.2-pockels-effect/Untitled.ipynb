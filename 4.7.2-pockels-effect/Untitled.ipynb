{
 "cells": [
  {
   "cell_type": "markdown",
   "id": "a1e0c9d5-9e18-499c-b986-00b384691085",
   "metadata": {},
   "source": [
    "кристалл 3x3x26mm $\\text{LiNiO}_3$\n",
    "\n",
    "$\\lambda = 630$ nm\n",
    "\n",
    "$n_0 = 2.29$"
   ]
  },
  {
   "cell_type": "markdown",
   "id": "207d3fe9-b468-46eb-bef7-eed6aa07d3ae",
   "metadata": {},
   "source": [
    "$L = 637\\pm1$ mm"
   ]
  },
  {
   "cell_type": "raw",
   "id": "ed1dbc1b-0580-4c7e-a0a6-011d0d1680b0",
   "metadata": {},
   "source": [
    "2r\n",
    "47\n",
    "65\n",
    "81\n",
    "92\n",
    "103\n",
    "113"
   ]
  },
  {
   "cell_type": "markdown",
   "id": "6b36bceb-3b08-48e3-90dd-16fb55fd7d90",
   "metadata": {},
   "source": [
    "For 90 deg (314 deg)\n",
    "\n",
    "$U_{\\lambda/2} = 390 \\pm 15$ V\n",
    "\n",
    "$U_{\\lambda} = 810 \\pm 15$ V\n",
    "\n",
    "$U_{3\\lambda/2} = 1230 \\pm 15$ V"
   ]
  },
  {
   "cell_type": "markdown",
   "id": "022be70a-84f4-4de8-bfff-9a459a7bcc70",
   "metadata": {},
   "source": [
    "For 0 deg (44 deg)\n",
    "\n",
    "не удалось увидеть (слабо меняется)"
   ]
  },
  {
   "cell_type": "code",
   "execution_count": 1,
   "id": "7ac90403-b282-4c23-a969-0a91cf30d10d",
   "metadata": {},
   "outputs": [
    {
     "data": {
      "text/plain": [
       "405.0"
      ]
     },
     "execution_count": 1,
     "metadata": {},
     "output_type": "execute_result"
    }
   ],
   "source": [
    "(390 + 810 + 1230) / 6"
   ]
  },
  {
   "cell_type": "markdown",
   "id": "515cd5ed-241a-4132-a42c-b918e769c194",
   "metadata": {},
   "source": [
    "6 п -- круговая поляризация (???)"
   ]
  },
  {
   "cell_type": "markdown",
   "id": "aa9a0479-67df-4fb7-a73a-d730e884f53e",
   "metadata": {},
   "source": [
    "переменка\n",
    "\n",
    "400\n",
    "\n",
    "тд + фото"
   ]
  },
  {
   "cell_type": "markdown",
   "id": "11cc86ab-bf25-4511-81ad-831bf2d92bb4",
   "metadata": {},
   "source": [
    "при переходе к параллельной поляризации получается линия"
   ]
  },
  {
   "cell_type": "code",
   "execution_count": null,
   "id": "255dc6f7-f011-4334-a981-356cf0e8fe58",
   "metadata": {},
   "outputs": [],
   "source": []
  }
 ],
 "metadata": {
  "kernelspec": {
   "display_name": "Python 3 (ipykernel)",
   "language": "python",
   "name": "python3"
  },
  "language_info": {
   "codemirror_mode": {
    "name": "ipython",
    "version": 3
   },
   "file_extension": ".py",
   "mimetype": "text/x-python",
   "name": "python",
   "nbconvert_exporter": "python",
   "pygments_lexer": "ipython3",
   "version": "3.10.2"
  }
 },
 "nbformat": 4,
 "nbformat_minor": 5
}
