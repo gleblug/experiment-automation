{
 "cells": [
  {
   "cell_type": "code",
   "execution_count": null,
   "id": "f3d63f3c-fd2c-45c8-88d6-634885aa687a",
   "metadata": {
    "tags": []
   },
   "outputs": [],
   "source": [
    "print(f\"{u[-1]},{r[-1]}\")\n",
    "for _ in range(10):\n",
    "    u.append(float(input()))\n",
    "    r.append(float(input()))"
   ]
  },
  {
   "cell_type": "code",
   "execution_count": 20,
   "id": "8bca9ef2-d285-4919-9690-e0275c736d5b",
   "metadata": {
    "tags": []
   },
   "outputs": [
    {
     "name": "stdout",
     "output_type": "stream",
     "text": [
      "0.0,278.5\n",
      "0.07,276.4\n",
      "0.09,273.0\n",
      "0.12,271.3\n",
      "0.15,268.0\n",
      "0.16,265.0\n",
      "0.17,262.8\n",
      "0.2,260.2\n",
      "0.23,256.6\n",
      "0.24,253.6\n",
      "0.25,251.4\n",
      "0.27,248.5\n",
      "0.28,245.9\n",
      "0.3,243.0\n",
      "0.33,240.7\n",
      "0.35,237.7\n",
      "0.36,235.5\n",
      "0.37,232.4\n",
      "0.38,227.8\n",
      "0.41,224.5\n",
      "0.42,222.0\n",
      "0.44,219.3\n",
      "0.45,217.3\n",
      "0.46,215.2\n",
      "0.48,213.6\n",
      "0.5,211.8\n",
      "0.52,208.6\n",
      "0.54,206.0\n",
      "0.55,203.5\n",
      "0.56,200.7\n"
     ]
    }
   ],
   "source": [
    "with open(\"data.csv\", \"w\") as f:\n",
    "    for i in range(len(u)):\n",
    "        f.write(f\"{u[i]},{r[i]}\\n\")\n",
    "        print(f\"{u[i]},{r[i]}\")"
   ]
  },
  {
   "cell_type": "code",
   "execution_count": null,
   "id": "d76a5336-85dc-43d4-a453-a9868f5b214f",
   "metadata": {},
   "outputs": [],
   "source": []
  }
 ],
 "metadata": {
  "kernelspec": {
   "display_name": "Python 3 (ipykernel)",
   "language": "python",
   "name": "python3"
  },
  "language_info": {
   "codemirror_mode": {
    "name": "ipython",
    "version": 3
   },
   "file_extension": ".py",
   "mimetype": "text/x-python",
   "name": "python",
   "nbconvert_exporter": "python",
   "pygments_lexer": "ipython3",
   "version": "3.10.12"
  }
 },
 "nbformat": 4,
 "nbformat_minor": 5
}
