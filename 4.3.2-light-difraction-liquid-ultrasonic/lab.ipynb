{
 "cells": [
  {
   "cell_type": "code",
   "execution_count": 70,
   "id": "80b69570-3c97-4533-a6e0-f5e254110784",
   "metadata": {
    "tags": []
   },
   "outputs": [],
   "source": [
    "# %load ../processing_tools.py\n",
    "import numpy as np\n",
    "from scipy.optimize import curve_fit\n",
    "import pandas as pd\n",
    "\n",
    "import matplotlib.pyplot as plt\n",
    "import matplotlib\n",
    "import scienceplots\n",
    "\n",
    "plt.style.use(['science', 'russian-font'])\n",
    "\n",
    "matplotlib.rcParams.update({\n",
    "    'figure.figsize': [6, 4],\n",
    "    'savefig.facecolor': 'white',\n",
    "    'figure.dpi': 150.0,\n",
    "    'font.size': 12.0,\n",
    "})\n"
   ]
  },
  {
   "cell_type": "markdown",
   "id": "287d428d-047c-4f87-a3d2-dd87b14ed429",
   "metadata": {},
   "source": [
    "При увеличении частоты УЗ волн расстояние между полосами увеличивается"
   ]
  },
  {
   "cell_type": "markdown",
   "id": "212f0889-b035-48c6-a902-5e3696c27e61",
   "metadata": {
    "tags": []
   },
   "source": [
    "**Расстояние между наиболее чёткими дифракционными картинами**"
   ]
  },
  {
   "cell_type": "code",
   "execution_count": 27,
   "id": "8c92872b-c1dc-4c49-abdb-5a0542e1312c",
   "metadata": {
    "tags": []
   },
   "outputs": [
    {
     "data": {
      "text/plain": [
       "1480"
      ]
     },
     "execution_count": 27,
     "metadata": {},
     "output_type": "execute_result"
    }
   ],
   "source": [
    "Lambda = 50+38-14\n",
    "Lambda = Lambda * 10 * 2 # в микронах удвоенное +- 1 микрон\n",
    "Lambda"
   ]
  },
  {
   "cell_type": "code",
   "execution_count": 28,
   "id": "2c9f8b3b-7b1f-4faa-9023-3df478639296",
   "metadata": {
    "tags": []
   },
   "outputs": [],
   "source": [
    "Lambda = Lambda * 1e-6 # длина УЗ волны в м\n",
    "nu = 1.0597e6 # частота в Гц"
   ]
  },
  {
   "cell_type": "markdown",
   "id": "b88d6dd1-d1bf-4c97-a4df-4871c71f67ce",
   "metadata": {},
   "source": [
    "**Скорость звука в воде по формуле (5)**"
   ]
  },
  {
   "cell_type": "code",
   "execution_count": 29,
   "id": "c35de00f-1ab3-4579-bacc-e89f0b418170",
   "metadata": {
    "tags": []
   },
   "outputs": [
    {
     "data": {
      "text/plain": [
       "1568.356"
      ]
     },
     "execution_count": 29,
     "metadata": {},
     "output_type": "execute_result"
    }
   ],
   "source": [
    "v = Lambda * nu\n",
    "v"
   ]
  },
  {
   "cell_type": "code",
   "execution_count": 78,
   "id": "b3c5aa79-04a1-45fa-bb19-5c80c1572092",
   "metadata": {
    "tags": []
   },
   "outputs": [],
   "source": [
    "nu1_array = [1.059, 2.898, 1.210, 2.951, 0.902, 0.294, 0.439, 0.669]"
   ]
  },
  {
   "cell_type": "markdown",
   "id": "85ef9674-6620-4502-bf4b-0bb38992e729",
   "metadata": {},
   "source": [
    "**Положения максимумов на частоте 1.059 МГц** в делениях винта (цена -- 4 мкм, погр 4 мкм)"
   ]
  },
  {
   "cell_type": "markdown",
   "id": "fe1d15a4-ceb7-47a0-b5d0-b7656bd0ec70",
   "metadata": {},
   "source": [
    "$\n",
    "x_0 = 2\\\\\n",
    "x_1 = 36\\\\\n",
    "x_2 = 72\\\\\n",
    "x_3 = 108\\\\\n",
    "x_{-1} = -34\\\\\n",
    "x_{-2} = -69\\\\\n",
    "x_{-3} = -106\n",
    "$"
   ]
  },
  {
   "cell_type": "markdown",
   "id": "4f527e6e-6357-4761-ab15-8c9f3a34e9fe",
   "metadata": {},
   "source": [
    "**Положения максимумов на частоте 2.898 МГц** в делениях винта (цена -- 4 мкм, погр 4 мкм)"
   ]
  },
  {
   "cell_type": "markdown",
   "id": "2c26c050-f0a9-418c-900c-08529a83c9e0",
   "metadata": {},
   "source": [
    "$\n",
    "x_0 = 1\\\\\n",
    "x_1 = 101\\\\\n",
    "x_2 = 199\\\\\n",
    "x_{-1} = -96\\\\\n",
    "x_{-2} = -194\n",
    "$"
   ]
  },
  {
   "cell_type": "markdown",
   "id": "997e6466-fb25-4c58-a71a-c35f4c793e06",
   "metadata": {},
   "source": [
    "**Положения максимумов на частоте 1.210 МГц** в делениях винта (цена -- 4 мкм, погр 4 мкм)"
   ]
  },
  {
   "cell_type": "markdown",
   "id": "4acf8536-c6fa-438e-b4ef-fae6556cfef6",
   "metadata": {},
   "source": [
    "$\n",
    "x_0 = 0\\\\\n",
    "x_1 = 42\\\\\n",
    "x_2 = 81\\\\\n",
    "x_{-1} = -40\\\\\n",
    "x_{-2} = -81\\\\\n",
    "$"
   ]
  },
  {
   "cell_type": "markdown",
   "id": "7e92b56b-97c6-40bb-a3ac-b72dd13998b7",
   "metadata": {},
   "source": [
    "**Положения максимумов на частоте 2.951 МГц** в делениях винта (цена -- 4 мкм, погр 4 мкм)"
   ]
  },
  {
   "cell_type": "markdown",
   "id": "2fa4ffe2-ee6b-4c84-a51b-fdc905077a24",
   "metadata": {},
   "source": [
    "$\n",
    "x_0 = 0\\\\\n",
    "x_1 = 99\\\\\n",
    "x_{-1} = -98\\\\\n",
    "$"
   ]
  },
  {
   "cell_type": "markdown",
   "id": "d3d4954a-4c31-44d8-86ff-e4b962d8e86f",
   "metadata": {},
   "source": [
    "**Положения максимумов на частоте 0.902 МГц** в делениях винта (цена -- 4 мкм, погр 4 мкм)"
   ]
  },
  {
   "cell_type": "markdown",
   "id": "ea4264d1-7513-4c15-a010-bc728f64657c",
   "metadata": {},
   "source": [
    "$\n",
    "x_0 = 1\\\\\n",
    "x_1 = 30\\\\\n",
    "x_2 = 61\\\\\n",
    "x_{-1} = -29\\\\\n",
    "x_{-2} = -58\\\\\n",
    "$"
   ]
  },
  {
   "cell_type": "markdown",
   "id": "26c016eb-8bbb-4b46-9d09-7ae1ad05fa32",
   "metadata": {},
   "source": [
    "**Положения максимумов на частоте 0.294 МГц** в делениях винта (цена -- 4 мкм, погр 4 мкм)"
   ]
  },
  {
   "cell_type": "markdown",
   "id": "d36ca07f-0c0e-4133-809d-def10c8f36c8",
   "metadata": {},
   "source": [
    "$\n",
    "x_0 = 0\\\\\n",
    "x_1 = 9\\\\\n",
    "x_{-1} = -10\\\\\n",
    "$"
   ]
  },
  {
   "cell_type": "markdown",
   "id": "4c11169f-71dc-4bf0-8ff7-7a55a867f304",
   "metadata": {},
   "source": [
    "**Положения максимумов на частоте 0.439 МГц** в делениях винта (цена -- 4 мкм, погр 4 мкм)"
   ]
  },
  {
   "cell_type": "markdown",
   "id": "148198ad-81a0-4f03-bc3c-be40e844c496",
   "metadata": {},
   "source": [
    "$\n",
    "x_0 = 0\\\\\n",
    "x_1 = 16\\\\\n",
    "x_2 = 30\\\\\n",
    "x_{-1} = -14\\\\\n",
    "x_{-2} = -29\n",
    "$"
   ]
  },
  {
   "cell_type": "markdown",
   "id": "c7011dfa-0db8-4cff-bbb8-cc4e42836911",
   "metadata": {},
   "source": [
    "**Положения максимумов на частоте 0.669 МГц** в делениях винта (цена -- 4 мкм, погр 4 мкм)"
   ]
  },
  {
   "cell_type": "markdown",
   "id": "1fb67b5f-e282-4690-a63e-af9f04c4798f",
   "metadata": {},
   "source": [
    "$\n",
    "x_0 = 0\\\\\n",
    "x_1 = 23\\\\\n",
    "x_2 = 46\\\\\n",
    "x_{-1} = -24\\\\\n",
    "x_{-2} = -47\n",
    "$"
   ]
  },
  {
   "cell_type": "code",
   "execution_count": 153,
   "id": "eae1dcdf-7f12-4cc0-b47c-950502dbd13b",
   "metadata": {},
   "outputs": [],
   "source": [
    "x_array = np.array([\n",
    "    (1.059, 3, [-106, -69, -34, 2, 36, 72, 108]),\n",
    "    (2.898, 2, [-194, -96, 1, 101, 199]),\n",
    "    (1.210, 2, [-81, -40, 0, 42, 81]),\n",
    "    (2.951, 1, [-98, 0, 99]),\n",
    "    (0.902, 2, [-58, -29, 1, 30, 61]),\n",
    "    (0.294, 1, [-10, 0, 9]),\n",
    "    (0.439, 2, [-29, -14, 0, 16, 30]),\n",
    "    (0.669, 2, [-47, -24, 0, 23, 46])\n",
    "],\n",
    "dtype=[('frequency', 'f4'), ('count', 'i4'), ('data', 'O')])"
   ]
  },
  {
   "cell_type": "code",
   "execution_count": 156,
   "id": "41a7b293-8c70-4827-ba1c-434f514099ef",
   "metadata": {},
   "outputs": [],
   "source": [
    "x_array.sort(0)"
   ]
  },
  {
   "cell_type": "code",
   "execution_count": 195,
   "id": "e4bb6e63-0945-4fb8-86e2-a122a27342b5",
   "metadata": {
    "tags": []
   },
   "outputs": [
    {
     "data": {
      "image/png": "[encoded data removed]",
      "text/plain": [
       "<Figure size 900x600 with 1 Axes>"
      ]
     },
     "metadata": {},
     "output_type": "display_data"
    }
   ],
   "source": [
    "for x in x_array:\n",
    "    count = x['count']\n",
    "    m = np.linspace(-count, count, count * 2 + 1, dtype=np.int32)\n",
    "    y = 4 * np.array(x['data'])\n",
    "    y = y - y[count]\n",
    "    \n",
    "    plt.errorbar(m, y, yerr=4, label=f'${x[\"frequency\"]:.2f}$ MHz', marker='.')\n",
    "    \n",
    "plt.xlabel('Номер максимума', fontsize='small')\n",
    "plt.ylabel('Расстояние до центрального максимума, мкм', fontsize='small')\n",
    "plt.legend(frameon=True, fontsize='x-small')\n",
    "plt.show()"
   ]
  },
  {
   "cell_type": "markdown",
   "id": "4a240cce-bfaf-4f8b-becf-17e1f7724fba",
   "metadata": {},
   "source": [
    "Полоса пропускания красного фильтра 6400+-200 ангстрем"
   ]
  },
  {
   "cell_type": "markdown",
   "id": "93ae12dd-e34d-4c95-8d84-01143f295a3e",
   "metadata": {},
   "source": [
    "f = 110mm"
   ]
  },
  {
   "cell_type": "markdown",
   "id": "8f2cf984-3d42-47ee-8a62-192a82cf2681",
   "metadata": {},
   "source": [
    "**Цена деления окулярной шкалы микроскопа, мм**"
   ]
  },
  {
   "cell_type": "code",
   "execution_count": 35,
   "id": "12c3dde5-0b52-40dc-a429-9a49c74b1f69",
   "metadata": {
    "tags": []
   },
   "outputs": [],
   "source": [
    "k = 2 / 43"
   ]
  },
  {
   "cell_type": "code",
   "execution_count": 67,
   "id": "76535139-d7f7-4c73-ade2-e7863670a863",
   "metadata": {
    "tags": []
   },
   "outputs": [],
   "source": [
    "Lambda_temn = 2 * 92 / 7 # длина волны по методу темн поля в делениях оклулярной шкалы\n",
    "Lambda_temn = Lambda_temn * k * 1e-3\n",
    "nu_temn = 1.243e6 # частота МГц"
   ]
  },
  {
   "cell_type": "code",
   "execution_count": 68,
   "id": "ec9b502b-0f79-4140-a9ba-93b127b826c5",
   "metadata": {
    "tags": []
   },
   "outputs": [
    {
     "data": {
      "text/plain": [
       "1519.6810631229237"
      ]
     },
     "execution_count": 68,
     "metadata": {},
     "output_type": "execute_result"
    }
   ],
   "source": [
    "v = Lambda_temn * nu_temn\n",
    "v"
   ]
  },
  {
   "cell_type": "markdown",
   "id": "1f17c9bd-be39-4db9-9405-53e52926a870",
   "metadata": {},
   "source": [
    "Для разных частот"
   ]
  },
  {
   "cell_type": "raw",
   "id": "f873a8cd-6e7f-4529-aa41-721b9c045198",
   "metadata": {},
   "source": [
    "lambda[del]/2,nu[MHz]\n",
    "27.33,0.599\n",
    "22.00,0.708\n",
    "17.60,0.901\n",
    "15.33,1.023\n",
    "13.14,1.243\n",
    "5.53,2.889\n",
    "5.33,2.980"
   ]
  },
  {
   "cell_type": "markdown",
   "id": "5eed1189-92d8-4317-9b40-e0a9ea938af2",
   "metadata": {},
   "source": [
    "При перемещении проволоки стало ничего не видно"
   ]
  },
  {
   "cell_type": "markdown",
   "id": "17885155-3769-426f-8be1-62ad3275d077",
   "metadata": {},
   "source": [
    "Второе явление обяснить"
   ]
  }
 ],
 "metadata": {
  "kernelspec": {
   "display_name": "Python 3 (ipykernel)",
   "language": "python",
   "name": "python3"
  },
  "language_info": {
   "codemirror_mode": {
    "name": "ipython",
    "version": 3
   },
   "file_extension": ".py",
   "mimetype": "text/x-python",
   "name": "python",
   "nbconvert_exporter": "python",
   "pygments_lexer": "ipython3",
   "version": "3.10.6"
  }
 },
 "nbformat": 4,
 "nbformat_minor": 5
}
