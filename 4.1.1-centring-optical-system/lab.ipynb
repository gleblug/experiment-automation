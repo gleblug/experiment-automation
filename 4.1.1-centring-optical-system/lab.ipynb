{
 "cells": [
  {
   "cell_type": "markdown",
   "id": "1a2732c1-08ea-49ab-a433-c77737a3dbf4",
   "metadata": {},
   "source": [
    "## Аббе"
   ]
  },
  {
   "cell_type": "markdown",
   "id": "59408a08-e827-4e2f-bc36-860e7c752886",
   "metadata": {},
   "source": [
    "$y_1 = y_2 = 20$ mm\n",
    "\n",
    "$y_1' = 13$ mm\n",
    "\n",
    "$y_2' = 69$ mm\n",
    "\n",
    "$dx = -140$ mm\n",
    "\n",
    "$dx' = 297$ mm"
   ]
  },
  {
   "cell_type": "markdown",
   "id": "d8077927-84c5-4c15-8d7b-4e98af823765",
   "metadata": {},
   "source": [
    "## Бессель"
   ]
  },
  {
   "cell_type": "markdown",
   "id": "e51a3cdf-51be-4973-a4d2-38985b54efe2",
   "metadata": {},
   "source": [
    "$L = 621$ mm\n",
    "\n",
    "$a_1 = 130$ mm\n",
    "\n",
    "$a_1' = 491$ mm\n",
    "\n",
    "$a_2 = 496$ mm\n",
    "\n",
    "$a_2' = 125$ mm\n",
    "\n",
    "$l = 366$ mm"
   ]
  },
  {
   "cell_type": "markdown",
   "id": "cc3ff286-cf71-4b19-b839-c777a8d62351",
   "metadata": {},
   "source": [
    "ошибка +- 1 mm"
   ]
  },
  {
   "cell_type": "markdown",
   "id": "9fdcbeda-9478-49bf-bc79-1af89c37bd7b",
   "metadata": {
    "tags": []
   },
   "source": [
    "##  Отр линза"
   ]
  },
  {
   "cell_type": "markdown",
   "id": "6874279f-5ffc-4b75-b3a4-f8253d06437f",
   "metadata": {},
   "source": [
    "$a_0 = 491$ mm\n",
    "\n",
    "$a' = 150$ mm\n",
    "\n",
    "$l = 422$ mm"
   ]
  },
  {
   "cell_type": "markdown",
   "id": "007ba589-9ca5-40e7-a4db-267ab30619d3",
   "metadata": {},
   "source": [
    "## Труба"
   ]
  },
  {
   "cell_type": "markdown",
   "id": "a625aaa5-fb01-4aec-90e4-312f13817798",
   "metadata": {},
   "source": [
    "$F_1 = 100$ mm\n",
    "\n",
    "$F_1' = 110$ mm\n",
    "\n",
    "$F_2 = 135$ mm\n",
    "\n",
    "$F_2' = 138$ mm"
   ]
  },
  {
   "cell_type": "markdown",
   "id": "a16c9f9f-ec00-481c-b9ea-88912d15fbe4",
   "metadata": {},
   "source": [
    "## Труба + отриц"
   ]
  },
  {
   "cell_type": "markdown",
   "id": "d4035cff-577b-4fb4-b927-1492817b5f9e",
   "metadata": {},
   "source": [
    "$l = 253$ mm\n",
    "\n",
    "$l' = 239$ mm\n",
    "\n",
    "$a_0 = 319$ mm"
   ]
  },
  {
   "cell_type": "code",
   "execution_count": null,
   "id": "41eeaa3f-901c-467b-bccf-c091506ce5d8",
   "metadata": {},
   "outputs": [],
   "source": []
  }
 ],
 "metadata": {
  "kernelspec": {
   "display_name": "Python 3 (ipykernel)",
   "language": "python",
   "name": "python3"
  },
  "language_info": {
   "codemirror_mode": {
    "name": "ipython",
    "version": 3
   },
   "file_extension": ".py",
   "mimetype": "text/x-python",
   "name": "python",
   "nbconvert_exporter": "python",
   "pygments_lexer": "ipython3",
   "version": "3.10.6"
  }
 },
 "nbformat": 4,
 "nbformat_minor": 5
}
