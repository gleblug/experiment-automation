{
 "cells": [
  {
   "cell_type": "code",
   "execution_count": 7,
   "id": "4c18befe-eab7-4708-8a74-e9441ece565c",
   "metadata": {},
   "outputs": [],
   "source": [
    "import numpy as np\n",
    "from scipy.optimize import curve_fit\n",
    "import pandas as pd"
   ]
  },
  {
   "cell_type": "markdown",
   "id": "527687f5-fb63-42ed-8c58-8bc0947710a9",
   "metadata": {},
   "source": [
    "#### Резонансная частота"
   ]
  },
  {
   "cell_type": "markdown",
   "id": "f52fc1dd-97d6-4e7a-b7dd-8a22bb8e372d",
   "metadata": {},
   "source": [
    "$\\nu_0 = \\dfrac{1}{2\\pi\\sqrt{LC}}$"
   ]
  },
  {
   "cell_type": "code",
   "execution_count": 58,
   "id": "04171738-ae97-463b-88b6-b03b55fdd617",
   "metadata": {},
   "outputs": [],
   "source": [
    "def nu_0(L, C):\n",
    "    return 1 / (2 * np.pi * np.sqrt(L * C))"
   ]
  },
  {
   "cell_type": "code",
   "execution_count": 59,
   "id": "87c14a27-7683-433e-9705-51496e137f17",
   "metadata": {
    "tags": []
   },
   "outputs": [
    {
     "data": {
      "text/plain": [
       "1591.5494309189535"
      ]
     },
     "execution_count": 59,
     "metadata": {},
     "output_type": "execute_result"
    }
   ],
   "source": [
    "nu_0(100e-3, 0.1e-6)"
   ]
  },
  {
   "cell_type": "markdown",
   "id": "33a9c25f-3478-497c-901a-c0950a8eda55",
   "metadata": {},
   "source": [
    "## R = 0 Ом"
   ]
  },
  {
   "cell_type": "markdown",
   "id": "5090862a-7622-49a9-b593-fc9ec6c2fc4e",
   "metadata": {},
   "source": [
    "freq = 1588 Hz\n",
    "\n",
    "period = 35.322 ms\n",
    "\n",
    "N = 30 cycles"
   ]
  },
  {
   "cell_type": "markdown",
   "id": "e90b3bb4-0a43-41a4-b492-56aa947dcde0",
   "metadata": {},
   "source": [
    "#### Логарифмический декремент затухания для возрастающего участка"
   ]
  },
  {
   "cell_type": "markdown",
   "id": "cdea4329-0b53-42a2-adde-7732df34fce9",
   "metadata": {},
   "source": [
    "$\\Theta = \\dfrac1n \\ln{\\dfrac{U_0 - U_k}{U_0 - U_{k+n}}}$"
   ]
  },
  {
   "cell_type": "code",
   "execution_count": 60,
   "id": "e779f269-18e0-4fcf-8246-1d583d807edb",
   "metadata": {},
   "outputs": [],
   "source": [
    "def Theta_incr(U0, U1, U2, n):\n",
    "    return 1/n * np.log((U0 - U1) / (U0 - U2))"
   ]
  },
  {
   "cell_type": "code",
   "execution_count": 61,
   "id": "bd9fdd97-683e-433d-92d4-f9de5128a7ab",
   "metadata": {},
   "outputs": [],
   "source": [
    "df = pd.read_csv(r'raw-data/zug-incr_0-Ohm.csv')"
   ]
  },
  {
   "cell_type": "code",
   "execution_count": 62,
   "id": "e5ddc315-92fa-4f83-ad2b-2c3fce1dcbb8",
   "metadata": {},
   "outputs": [],
   "source": [
    "U0 = df['U0[mV]']\n",
    "U1 = df['U1[mV]']\n",
    "U2 = df['U2[mV]']\n",
    "n  = df['n']"
   ]
  },
  {
   "cell_type": "code",
   "execution_count": 63,
   "id": "3b8e013b-90e0-4362-9cc7-37dd8ed80e91",
   "metadata": {},
   "outputs": [
    {
     "data": {
      "text/plain": [
       "0    0.111672\n",
       "1    0.115525\n",
       "2    0.115721\n",
       "3    0.113310\n",
       "dtype: float64"
      ]
     },
     "execution_count": 63,
     "metadata": {},
     "output_type": "execute_result"
    }
   ],
   "source": [
    "Theta_incr(U0, U1, U2, n)"
   ]
  },
  {
   "cell_type": "markdown",
   "id": "e060b5da-df82-4dd3-9460-4dda42d95439",
   "metadata": {},
   "source": [
    "#### Логарифмический декремент затухания для затухающего участка"
   ]
  },
  {
   "cell_type": "markdown",
   "id": "8c74f90a-5e1f-4c15-bc02-4d1e92969c3e",
   "metadata": {},
   "source": [
    "$\\Theta = \\dfrac1n \\ln{\\dfrac{U_m}{U_{m+n}}}$"
   ]
  },
  {
   "cell_type": "code",
   "execution_count": 64,
   "id": "8fa641b1-02ff-4dcf-a96f-a1d5f4db4796",
   "metadata": {},
   "outputs": [],
   "source": [
    "def Theta_decr(U1, U2, n):\n",
    "    return 1/n * np.log((U1) / (U2))"
   ]
  },
  {
   "cell_type": "code",
   "execution_count": 65,
   "id": "3f2b73c7-ae5d-4b0d-9c06-6e8b166e8e43",
   "metadata": {
    "tags": []
   },
   "outputs": [],
   "source": [
    "df = pd.read_csv(r'raw-data/zug-decr_0-Ohm.csv')"
   ]
  },
  {
   "cell_type": "code",
   "execution_count": 66,
   "id": "19e0dea5-398d-4a9a-9b85-b2d40b490e58",
   "metadata": {},
   "outputs": [],
   "source": [
    "U1 = df['U1[mV]']\n",
    "U2 = df['U2[mV]']\n",
    "n  = df['n']"
   ]
  },
  {
   "cell_type": "code",
   "execution_count": 67,
   "id": "ee60a941-494b-41eb-bbfa-8acc7f1a5748",
   "metadata": {},
   "outputs": [
    {
     "data": {
      "text/plain": [
       "0    0.096905\n",
       "1    0.096698\n",
       "2    0.091629\n",
       "3    0.091964\n",
       "dtype: float64"
      ]
     },
     "execution_count": 67,
     "metadata": {},
     "output_type": "execute_result"
    }
   ],
   "source": [
    "Theta_decr(U1, U2, n)"
   ]
  },
  {
   "cell_type": "markdown",
   "id": "4e9e0a89-497c-47c6-8d3a-fe53c8c3a800",
   "metadata": {},
   "source": [
    "## R = 100 Ом"
   ]
  },
  {
   "cell_type": "markdown",
   "id": "0e45b382-3569-4936-85ab-3a7f000d3a59",
   "metadata": {},
   "source": [
    "freq = 1588 Hz\n",
    "\n",
    "period = 12 ms\n",
    "\n",
    "N = 8 cycles"
   ]
  },
  {
   "cell_type": "markdown",
   "id": "0144e75d-9946-4e5c-92ae-aeb25e3c9c2e",
   "metadata": {},
   "source": [
    "#### Логарифмический декремент затухания для возрастающего участка"
   ]
  },
  {
   "cell_type": "code",
   "execution_count": 68,
   "id": "1b70235a-4380-4dad-b79d-e8c61456db1b",
   "metadata": {},
   "outputs": [],
   "source": [
    "df = pd.read_csv(r'raw-data/zug-incr_100-Ohm.csv')"
   ]
  },
  {
   "cell_type": "code",
   "execution_count": 69,
   "id": "19501640-3c96-4bde-b319-a8a93a8af87a",
   "metadata": {},
   "outputs": [],
   "source": [
    "U0 = df['U0[mV]']\n",
    "U1 = df['U1[mV]']\n",
    "U2 = df['U2[mV]']\n",
    "n  = df['n']"
   ]
  },
  {
   "cell_type": "code",
   "execution_count": 70,
   "id": "6a45f573-5c8a-4305-b19a-a9b2a1c3c812",
   "metadata": {},
   "outputs": [
    {
     "data": {
      "text/plain": [
       "0    0.390079\n",
       "1    0.433750\n",
       "2    0.410715\n",
       "3    0.449025\n",
       "dtype: float64"
      ]
     },
     "execution_count": 70,
     "metadata": {},
     "output_type": "execute_result"
    }
   ],
   "source": [
    "Theta_incr(U0, U1, U2, n)"
   ]
  },
  {
   "cell_type": "markdown",
   "id": "7614fa42-560a-43f2-8d6f-1f588cf9370b",
   "metadata": {},
   "source": [
    "#### Логарифмический декремент затухания для затухающего участка"
   ]
  },
  {
   "cell_type": "code",
   "execution_count": 71,
   "id": "59668c21-71a4-4344-b872-404bb4f57781",
   "metadata": {
    "tags": []
   },
   "outputs": [],
   "source": [
    "df = pd.read_csv(r'raw-data/zug-decr_100-Ohm.csv')"
   ]
  },
  {
   "cell_type": "code",
   "execution_count": 72,
   "id": "503635a4-5238-48d0-ae6c-8683229dd21a",
   "metadata": {},
   "outputs": [],
   "source": [
    "U1 = df['U1[mV]']\n",
    "U2 = df['U2[mV]']\n",
    "n  = df['n']"
   ]
  },
  {
   "cell_type": "code",
   "execution_count": 73,
   "id": "00f8bf87-300b-4a5c-970e-8b7ba27c704e",
   "metadata": {},
   "outputs": [
    {
     "data": {
      "text/plain": [
       "0    0.302753\n",
       "1    0.270310\n",
       "2    0.282851\n",
       "3    0.315313\n",
       "dtype: float64"
      ]
     },
     "execution_count": 73,
     "metadata": {},
     "output_type": "execute_result"
    }
   ],
   "source": [
    "Theta_decr(U1, U2, n)"
   ]
  },
  {
   "cell_type": "markdown",
   "id": "efc47c94-16e9-4563-b50d-429068642829",
   "metadata": {},
   "source": [
    "**50 Hz**\n",
    "\n",
    "L = 100.10 mH\n",
    "\n",
    "R1 = 0.028 Ohm\n",
    "\n",
    "R2 = 100.02 Ohm"
   ]
  },
  {
   "cell_type": "markdown",
   "id": "f6adb735-9274-4a05-b9b2-d85e185fec62",
   "metadata": {},
   "source": [
    "**500 Hz**\n",
    "\n",
    "L = 100.08 mH\n",
    "\n",
    "R1 = 0.029 Ohm\n",
    "\n",
    "R2 = 100.02"
   ]
  },
  {
   "cell_type": "markdown",
   "id": "3f1ea607-25e1-4d4b-a714-1bfc49aebe29",
   "metadata": {},
   "source": [
    "**1500 Hz**\n",
    "\n",
    "L = 100.10 mH\n",
    "\n",
    "R1 = 0.03 Ohm\n",
    "\n",
    "R2 = 100.02 Ohm"
   ]
  }
 ],
 "metadata": {
  "kernelspec": {
   "display_name": "Python 3 (ipykernel)",
   "language": "python",
   "name": "python3"
  },
  "language_info": {
   "codemirror_mode": {
    "name": "ipython",
    "version": 3
   },
   "file_extension": ".py",
   "mimetype": "text/x-python",
   "name": "python",
   "nbconvert_exporter": "python",
   "pygments_lexer": "ipython3",
   "version": "3.10.2"
  }
 },
 "nbformat": 4,
 "nbformat_minor": 5
}
